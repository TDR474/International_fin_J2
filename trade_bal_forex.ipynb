{
 "cells": [
  {
   "cell_type": "code",
   "execution_count": 65,
   "metadata": {},
   "outputs": [],
   "source": [
    "# Raw Package\n",
    "import numpy as np\n",
    "import pandas as pd\n",
    "\n",
    "#Data Source\n",
    "import yfinance as yf\n",
    "\n",
    "#Data viz\n",
    "import plotly.graph_objs as go\n",
    "import chart_studio.plotly as py\n",
    "import matplotlib.pyplot as plt"
   ]
  },
  {
   "cell_type": "code",
   "execution_count": 49,
   "metadata": {},
   "outputs": [
    {
     "data": {
      "text/html": [
       "<div>\n",
       "<style scoped>\n",
       "    .dataframe tbody tr th:only-of-type {\n",
       "        vertical-align: middle;\n",
       "    }\n",
       "\n",
       "    .dataframe tbody tr th {\n",
       "        vertical-align: top;\n",
       "    }\n",
       "\n",
       "    .dataframe thead th {\n",
       "        text-align: right;\n",
       "    }\n",
       "</style>\n",
       "<table border=\"1\" class=\"dataframe\">\n",
       "  <thead>\n",
       "    <tr style=\"text-align: right;\">\n",
       "      <th></th>\n",
       "      <th>Date</th>\n",
       "      <th>EURUSD</th>\n",
       "    </tr>\n",
       "  </thead>\n",
       "  <tbody>\n",
       "    <tr>\n",
       "      <th>0</th>\n",
       "      <td>2003-12</td>\n",
       "      <td>1.231372</td>\n",
       "    </tr>\n",
       "    <tr>\n",
       "      <th>1</th>\n",
       "      <td>2004-01</td>\n",
       "      <td>1.260813</td>\n",
       "    </tr>\n",
       "    <tr>\n",
       "      <th>2</th>\n",
       "      <td>2004-02</td>\n",
       "      <td>1.264357</td>\n",
       "    </tr>\n",
       "    <tr>\n",
       "      <th>3</th>\n",
       "      <td>2004-03</td>\n",
       "      <td>1.226723</td>\n",
       "    </tr>\n",
       "    <tr>\n",
       "      <th>4</th>\n",
       "      <td>2004-04</td>\n",
       "      <td>1.199692</td>\n",
       "    </tr>\n",
       "  </tbody>\n",
       "</table>\n",
       "</div>"
      ],
      "text/plain": [
       "      Date    EURUSD\n",
       "0  2003-12  1.231372\n",
       "1  2004-01  1.260813\n",
       "2  2004-02  1.264357\n",
       "3  2004-03  1.226723\n",
       "4  2004-04  1.199692"
      ]
     },
     "execution_count": 49,
     "metadata": {},
     "output_type": "execute_result"
    }
   ],
   "source": [
    "# get EURO-US exchange rate data from 2000-01-01 to 2022-1-1\n",
    "\n",
    "df_eu = yf.download('EURUSD=X', start='2000-01-01', end='2022-1-1', progress=False)\n",
    "df_eu = df_eu.reset_index()\n",
    "df_eu = df_eu[['Date', 'Close']]\n",
    "df_eu.columns = ['Date', 'EURUSD']\n",
    "\n",
    "# change the frequency of the data to monthly\n",
    "df_eu = df_eu.set_index('Date')\n",
    "df_eu = df_eu.resample('M').mean()\n",
    "df_eu = df_eu.reset_index()\n",
    "\n",
    "# get rid of the days in the date column\n",
    "df_eu['Date'] = df_eu['Date'].dt.strftime('%Y-%m')\n",
    "\n",
    "df_eu.head()\n"
   ]
  },
  {
   "cell_type": "code",
   "execution_count": 50,
   "metadata": {},
   "outputs": [
    {
     "name": "stdout",
     "output_type": "stream",
     "text": [
      "[*********************100%***********************]  1 of 1 completed\n"
     ]
    },
    {
     "data": {
      "text/html": [
       "<div>\n",
       "<style scoped>\n",
       "    .dataframe tbody tr th:only-of-type {\n",
       "        vertical-align: middle;\n",
       "    }\n",
       "\n",
       "    .dataframe tbody tr th {\n",
       "        vertical-align: top;\n",
       "    }\n",
       "\n",
       "    .dataframe thead th {\n",
       "        text-align: right;\n",
       "    }\n",
       "</style>\n",
       "<table border=\"1\" class=\"dataframe\">\n",
       "  <thead>\n",
       "    <tr style=\"text-align: right;\">\n",
       "      <th></th>\n",
       "      <th>date</th>\n",
       "      <th>CNYUSD</th>\n",
       "    </tr>\n",
       "  </thead>\n",
       "  <tbody>\n",
       "    <tr>\n",
       "      <th>0</th>\n",
       "      <td>2001-06</td>\n",
       "      <td>8.276800</td>\n",
       "    </tr>\n",
       "    <tr>\n",
       "      <th>1</th>\n",
       "      <td>2001-07</td>\n",
       "      <td>8.276814</td>\n",
       "    </tr>\n",
       "    <tr>\n",
       "      <th>2</th>\n",
       "      <td>2001-08</td>\n",
       "      <td>8.276969</td>\n",
       "    </tr>\n",
       "    <tr>\n",
       "      <th>3</th>\n",
       "      <td>2001-09</td>\n",
       "      <td>8.276850</td>\n",
       "    </tr>\n",
       "    <tr>\n",
       "      <th>4</th>\n",
       "      <td>2001-10</td>\n",
       "      <td>8.276842</td>\n",
       "    </tr>\n",
       "  </tbody>\n",
       "</table>\n",
       "</div>"
      ],
      "text/plain": [
       "      date    CNYUSD\n",
       "0  2001-06  8.276800\n",
       "1  2001-07  8.276814\n",
       "2  2001-08  8.276969\n",
       "3  2001-09  8.276850\n",
       "4  2001-10  8.276842"
      ]
     },
     "execution_count": 50,
     "metadata": {},
     "output_type": "execute_result"
    }
   ],
   "source": [
    "# get China-US exchange rate data from 2000-01-01 to 2022-1-1\n",
    "df = yf.download(\"CNY=X\", start=\"2000-01-01\", end=\"2022-1-1\")\n",
    "df = df.reset_index()\n",
    "df = df.rename(columns={\"Date\": \"date\", \"Close\": \"cny_usd\"})\n",
    "df.head()\n",
    "\n",
    "# change the frequency of the data from daily to monthly\n",
    "df['date'] = pd.to_datetime(df['date'])\n",
    "df = df.set_index('date')\n",
    "df.head()\n",
    "# change to monthly frequency, only include the month not the day\n",
    "df = df.resample('M').mean()\n",
    "df = df.reset_index()\n",
    "df.head()\n",
    "\n",
    "# get rid of the day in the date column\n",
    "df['date'] = df['date'].dt.strftime('%Y-%m')\n",
    "#only keep close price\n",
    "df_china = df[['date', 'cny_usd']]\n",
    "# rename the cny_usd column to CNYUSD\n",
    "df_china = df_china.rename(columns={'cny_usd': 'CNYUSD'})\n",
    "\n",
    "df_china.head()\n"
   ]
  },
  {
   "cell_type": "code",
   "execution_count": 51,
   "metadata": {},
   "outputs": [
    {
     "data": {
      "text/html": [
       "<div>\n",
       "<style scoped>\n",
       "    .dataframe tbody tr th:only-of-type {\n",
       "        vertical-align: middle;\n",
       "    }\n",
       "\n",
       "    .dataframe tbody tr th {\n",
       "        vertical-align: top;\n",
       "    }\n",
       "\n",
       "    .dataframe thead th {\n",
       "        text-align: right;\n",
       "    }\n",
       "</style>\n",
       "<table border=\"1\" class=\"dataframe\">\n",
       "  <thead>\n",
       "    <tr style=\"text-align: right;\">\n",
       "      <th></th>\n",
       "      <th>BOPGSTB</th>\n",
       "      <th>date</th>\n",
       "    </tr>\n",
       "  </thead>\n",
       "  <tbody>\n",
       "    <tr>\n",
       "      <th>0</th>\n",
       "      <td>-27131.0</td>\n",
       "      <td>2000-01</td>\n",
       "    </tr>\n",
       "    <tr>\n",
       "      <th>1</th>\n",
       "      <td>-29794.0</td>\n",
       "      <td>2000-02</td>\n",
       "    </tr>\n",
       "    <tr>\n",
       "      <th>2</th>\n",
       "      <td>-30557.0</td>\n",
       "      <td>2000-03</td>\n",
       "    </tr>\n",
       "    <tr>\n",
       "      <th>3</th>\n",
       "      <td>-28598.0</td>\n",
       "      <td>2000-04</td>\n",
       "    </tr>\n",
       "    <tr>\n",
       "      <th>4</th>\n",
       "      <td>-29165.0</td>\n",
       "      <td>2000-05</td>\n",
       "    </tr>\n",
       "  </tbody>\n",
       "</table>\n",
       "</div>"
      ],
      "text/plain": [
       "   BOPGSTB     date\n",
       "0 -27131.0  2000-01\n",
       "1 -29794.0  2000-02\n",
       "2 -30557.0  2000-03\n",
       "3 -28598.0  2000-04\n",
       "4 -29165.0  2000-05"
      ]
     },
     "execution_count": 51,
     "metadata": {},
     "output_type": "execute_result"
    }
   ],
   "source": [
    "import pandas_datareader.data as web\n",
    "import datetime\n",
    "\n",
    "# Define the time period\n",
    "start_date = datetime.datetime(2000, 1, 1)\n",
    "end_date = datetime.datetime(2022, 1, 1)\n",
    "\n",
    "# Get the trade balance data for the US\n",
    "df_trade = web.DataReader('BOPGSTB', 'fred', start_date, end_date)\n",
    "\n",
    "# get rid of the day in the date column\n",
    "df_trade['date'] = df_trade.index.strftime('%Y-%m')\n",
    "df_trade = df_trade.reset_index(drop=True)\n",
    "\n",
    "df_trade.head()"
   ]
  },
  {
   "cell_type": "code",
   "execution_count": 52,
   "metadata": {},
   "outputs": [
    {
     "data": {
      "text/html": [
       "<div>\n",
       "<style scoped>\n",
       "    .dataframe tbody tr th:only-of-type {\n",
       "        vertical-align: middle;\n",
       "    }\n",
       "\n",
       "    .dataframe tbody tr th {\n",
       "        vertical-align: top;\n",
       "    }\n",
       "\n",
       "    .dataframe thead th {\n",
       "        text-align: right;\n",
       "    }\n",
       "</style>\n",
       "<table border=\"1\" class=\"dataframe\">\n",
       "  <thead>\n",
       "    <tr style=\"text-align: right;\">\n",
       "      <th></th>\n",
       "      <th>date</th>\n",
       "      <th>CNYUSD</th>\n",
       "      <th>BOPGSTB</th>\n",
       "      <th>Date</th>\n",
       "      <th>EURUSD</th>\n",
       "    </tr>\n",
       "  </thead>\n",
       "  <tbody>\n",
       "    <tr>\n",
       "      <th>212</th>\n",
       "      <td>2021-08</td>\n",
       "      <td>6.475914</td>\n",
       "      <td>-71426.0</td>\n",
       "      <td>2021-08</td>\n",
       "      <td>0.849553</td>\n",
       "    </tr>\n",
       "    <tr>\n",
       "      <th>213</th>\n",
       "      <td>2021-09</td>\n",
       "      <td>6.456764</td>\n",
       "      <td>-78334.0</td>\n",
       "      <td>2021-09</td>\n",
       "      <td>0.849052</td>\n",
       "    </tr>\n",
       "    <tr>\n",
       "      <th>214</th>\n",
       "      <td>2021-10</td>\n",
       "      <td>6.420943</td>\n",
       "      <td>-68156.0</td>\n",
       "      <td>2021-10</td>\n",
       "      <td>0.862022</td>\n",
       "    </tr>\n",
       "    <tr>\n",
       "      <th>215</th>\n",
       "      <td>2021-11</td>\n",
       "      <td>6.390591</td>\n",
       "      <td>-77977.0</td>\n",
       "      <td>2021-11</td>\n",
       "      <td>0.875864</td>\n",
       "    </tr>\n",
       "    <tr>\n",
       "      <th>216</th>\n",
       "      <td>2021-12</td>\n",
       "      <td>6.368196</td>\n",
       "      <td>-78867.0</td>\n",
       "      <td>2021-12</td>\n",
       "      <td>0.884393</td>\n",
       "    </tr>\n",
       "  </tbody>\n",
       "</table>\n",
       "</div>"
      ],
      "text/plain": [
       "        date    CNYUSD  BOPGSTB     Date    EURUSD\n",
       "212  2021-08  6.475914 -71426.0  2021-08  0.849553\n",
       "213  2021-09  6.456764 -78334.0  2021-09  0.849052\n",
       "214  2021-10  6.420943 -68156.0  2021-10  0.862022\n",
       "215  2021-11  6.390591 -77977.0  2021-11  0.875864\n",
       "216  2021-12  6.368196 -78867.0  2021-12  0.884393"
      ]
     },
     "execution_count": 52,
     "metadata": {},
     "output_type": "execute_result"
    }
   ],
   "source": [
    "# merge the two dataframes\n",
    "df_final = pd.merge(df_china, df_trade, how='left', left_on=\"date\", right_on='date')\n",
    "# merge the third dataframe\n",
    "df_final = pd.merge(df_final, df_eu, how='right', left_on=\"date\", right_on='Date')\n",
    "# change eursd to 1/eurusd\n",
    "df_final['EURUSD'] = 1/df_final['EURUSD']\n",
    "df_final.tail()"
   ]
  },
  {
   "cell_type": "code",
   "execution_count": 56,
   "metadata": {},
   "outputs": [],
   "source": [
    "# import ols\n",
    "from statsmodels.formula.api import ols"
   ]
  },
  {
   "cell_type": "code",
   "execution_count": 71,
   "metadata": {},
   "outputs": [
    {
     "name": "stdout",
     "output_type": "stream",
     "text": [
      "                            OLS Regression Results                            \n",
      "==============================================================================\n",
      "Dep. Variable:                BOPGSTB   R-squared:                       0.214\n",
      "Model:                            OLS   Adj. R-squared:                  0.211\n",
      "Method:                 Least Squares   F-statistic:                     58.69\n",
      "Date:                Tue, 14 Feb 2023   Prob (F-statistic):           6.23e-13\n",
      "Time:                        15:21:27   Log-Likelihood:                -2295.2\n",
      "No. Observations:                 217   AIC:                             4594.\n",
      "Df Residuals:                     215   BIC:                             4601.\n",
      "Df Model:                           1                                         \n",
      "Covariance Type:            nonrobust                                         \n",
      "==============================================================================\n",
      "                 coef    std err          t      P>|t|      [0.025      0.975]\n",
      "------------------------------------------------------------------------------\n",
      "Intercept   2681.8315   6748.689      0.397      0.691   -1.06e+04     1.6e+04\n",
      "CNYUSD     -7455.4825    973.199     -7.661      0.000   -9373.715   -5537.250\n",
      "==============================================================================\n",
      "Omnibus:                       37.053   Durbin-Watson:                   0.156\n",
      "Prob(Omnibus):                  0.000   Jarque-Bera (JB):               57.581\n",
      "Skew:                          -0.958   Prob(JB):                     3.14e-13\n",
      "Kurtosis:                       4.643   Cond. No.                         73.8\n",
      "==============================================================================\n",
      "\n",
      "Notes:\n",
      "[1] Standard Errors assume that the covariance matrix of the errors is correctly specified.\n"
     ]
    }
   ],
   "source": [
    "# analyze the data\n",
    "df_final.describe()\n",
    "# correlation between the trade balance and the exchange rate\n",
    "corr = df_final[\"CNYUSD\"].corr(df_final[\"BOPGSTB\"])\n",
    "model = ols(\"BOPGSTB ~ CNYUSD\", data=df_final).fit()\n",
    "# print the model result nicely\n",
    "print(model.summary())"
   ]
  },
  {
   "cell_type": "code",
   "execution_count": 60,
   "metadata": {},
   "outputs": [
    {
     "name": "stdout",
     "output_type": "stream",
     "text": [
      "                            OLS Regression Results                            \n",
      "==============================================================================\n",
      "Dep. Variable:                 EURUSD   R-squared:                       0.001\n",
      "Model:                            OLS   Adj. R-squared:                 -0.004\n",
      "Method:                 Least Squares   F-statistic:                    0.1711\n",
      "Date:                Tue, 14 Feb 2023   Prob (F-statistic):              0.680\n",
      "Time:                        15:03:29   Log-Likelihood:                 256.08\n",
      "No. Observations:                 217   AIC:                            -508.2\n",
      "Df Residuals:                     215   BIC:                            -501.4\n",
      "Df Model:                           1                                         \n",
      "Covariance Type:            nonrobust                                         \n",
      "==============================================================================\n",
      "                 coef    std err          t      P>|t|      [0.025      0.975]\n",
      "------------------------------------------------------------------------------\n",
      "Intercept      0.8124      0.024     34.350      0.000       0.766       0.859\n",
      "BOPGSTB     1.959e-07   4.74e-07      0.414      0.680   -7.38e-07    1.13e-06\n",
      "==============================================================================\n",
      "Omnibus:                       25.891   Durbin-Watson:                   0.050\n",
      "Prob(Omnibus):                  0.000   Jarque-Bera (JB):                7.745\n",
      "Skew:                          -0.063   Prob(JB):                       0.0208\n",
      "Kurtosis:                       2.083   Cond. No.                     2.33e+05\n",
      "==============================================================================\n",
      "\n",
      "Notes:\n",
      "[1] Standard Errors assume that the covariance matrix of the errors is correctly specified.\n",
      "[2] The condition number is large, 2.33e+05. This might indicate that there are\n",
      "strong multicollinearity or other numerical problems.\n"
     ]
    }
   ],
   "source": [
    "# now for EURUSD\n",
    "corr = df_final[\"EURUSD\"].corr(df_final[\"BOPGSTB\"])\n",
    "model = ols(\"EURUSD ~ BOPGSTB\", data=df_final).fit()\n",
    "# print the model result nicely\n",
    "print(model.summary())"
   ]
  },
  {
   "cell_type": "code",
   "execution_count": 70,
   "metadata": {},
   "outputs": [
    {
     "data": {
      "text/plain": [
       "Text(0, 0.5, 'CNYUSD')"
      ]
     },
     "execution_count": 70,
     "metadata": {},
     "output_type": "execute_result"
    },
    {
     "data": {
      "image/png": "[encoded data removed]",
      "text/plain": [
       "<Figure size 432x288 with 1 Axes>"
      ]
     },
     "metadata": {
      "needs_background": "light"
     },
     "output_type": "display_data"
    }
   ],
   "source": [
    "# visualize the data\n",
    "# use a graph object\n",
    "plt.scatter(df_final[\"BOPGSTB\"], df_final[\"CNYUSD\"])\n",
    "plt.title(\"Trade Balance vs. CNYUSD\")\n",
    "plt.xlabel(\"Trade Balance\")\n",
    "plt.ylabel(\"CNYUSD\")\n"
   ]
  },
  {
   "cell_type": "code",
   "execution_count": 74,
   "metadata": {},
   "outputs": [
    {
     "data": {
      "application/vnd.plotly.v1+json": {
       "config": {
        "plotlyServerURL": "https://plot.ly"
       },
       "data": [
        {
         "name": "CNYUSD",
         "type": "scatter",
         "x": [
          "2003-12",
          "2004-01",
          "2004-02",
          "2004-03",
          "2004-04",
          "2004-05",
          "2004-06",
          "2004-07",
          "2004-08",
          "2004-09",
          "2004-10",
          "2004-11",
          "2004-12",
          "2005-01",
          "2005-02",
          "2005-03",
          "2005-04",
          "2005-05",
          "2005-06",
          "2005-07",
          "2005-08",
          "2005-09",
          "2005-10",
          "2005-11",
          "2005-12",
          "2006-01",
          "2006-02",
          "2006-03",
          "2006-04",
          "2006-05",
          "2006-06",
          "2006-07",
          "2006-08",
          "2006-09",
          "2006-10",
          "2006-11",
          "2006-12",
          "2007-01",
          "2007-02",
          "2007-03",
          "2007-04",
          "2007-05",
          "2007-06",
          "2007-07",
          "2007-08",
          "2007-09",
          "2007-10",
          "2007-11",
          "2007-12",
          "2008-01",
          "2008-02",
          "2008-03",
          "2008-04",
          "2008-05",
          "2008-06",
          "2008-07",
          "2008-08",
          "2008-09",
          "2008-10",
          "2008-11",
          "2008-12",
          "2009-01",
          "2009-02",
          "2009-03",
          "2009-04",
          "2009-05",
          "2009-06",
          "2009-07",
          "2009-08",
          "2009-09",
          "2009-10",
          "2009-11",
          "2009-12",
          "2010-01",
          "2010-02",
          "2010-03",
          "2010-04",
          "2010-05",
          "2010-06",
          "2010-07",
          "2010-08",
          "2010-09",
          "2010-10",
          "2010-11",
          "2010-12",
          "2011-01",
          "2011-02",
          "2011-03",
          "2011-04",
          "2011-05",
          "2011-06",
          "2011-07",
          "2011-08",
          "2011-09",
          "2011-10",
          "2011-11",
          "2011-12",
          "2012-01",
          "2012-02",
          "2012-03",
          "2012-04",
          "2012-05",
          "2012-06",
          "2012-07",
          "2012-08",
          "2012-09",
          "2012-10",
          "2012-11",
          "2012-12",
          "2013-01",
          "2013-02",
          "2013-03",
          "2013-04",
          "2013-05",
          "2013-06",
          "2013-07",
          "2013-08",
          "2013-09",
          "2013-10",
          "2013-11",
          "2013-12",
          "2014-01",
          "2014-02",
          "2014-03",
          "2014-04",
          "2014-05",
          "2014-06",
          "2014-07",
          "2014-08",
          "2014-09",
          "2014-10",
          "2014-11",
          "2014-12",
          "2015-01",
          "2015-02",
          "2015-03",
          "2015-04",
          "2015-05",
          "2015-06",
          "2015-07",
          "2015-08",
          "2015-09",
          "2015-10",
          "2015-11",
          "2015-12",
          "2016-01",
          "2016-02",
          "2016-03",
          "2016-04",
          "2016-05",
          "2016-06",
          "2016-07",
          "2016-08",
          "2016-09",
          "2016-10",
          "2016-11",
          "2016-12",
          "2017-01",
          "2017-02",
          "2017-03",
          "2017-04",
          "2017-05",
          "2017-06",
          "2017-07",
          "2017-08",
          "2017-09",
          "2017-10",
          "2017-11",
          "2017-12",
          "2018-01",
          "2018-02",
          "2018-03",
          "2018-04",
          "2018-05",
          "2018-06",
          "2018-07",
          "2018-08",
          "2018-09",
          "2018-10",
          "2018-11",
          "2018-12",
          "2019-01",
          "2019-02",
          "2019-03",
          "2019-04",
          "2019-05",
          "2019-06",
          "2019-07",
          "2019-08",
          "2019-09",
          "2019-10",
          "2019-11",
          "2019-12",
          "2020-01",
          "2020-02",
          "2020-03",
          "2020-04",
          "2020-05",
          "2020-06",
          "2020-07",
          "2020-08",
          "2020-09",
          "2020-10",
          "2020-11",
          "2020-12",
          "2021-01",
          "2021-02",
          "2021-03",
          "2021-04",
          "2021-05",
          "2021-06",
          "2021-07",
          "2021-08",
          "2021-09",
          "2021-10",
          "2021-11",
          "2021-12"
         ],
         "y": [
          8.267010889555278,
          8.266981215704055,
          8.267125558853149,
          8.26705667246943,
          8.265915203094483,
          8.267068762528268,
          8.266656875610352,
          8.266736203973943,
          8.266799926757812,
          8.266649723052979,
          8.267010370890299,
          8.266501426696777,
          8.266936136328656,
          8.266501426696777,
          8.266501426696777,
          8.267366492229959,
          8.266501426696777,
          8.267405813390559,
          8.266501426696777,
          8.218877201988583,
          8.091678536456564,
          8.077081853693182,
          8.073947679428827,
          8.077595624056729,
          8.072000070051713,
          8.0634502064098,
          8.049795055389405,
          8.030160986858865,
          8.004960107803345,
          8.004247810529625,
          7.997258988293734,
          7.9798428898765925,
          7.963621699291727,
          7.923233350118001,
          7.892599951137196,
          7.853336355902932,
          7.811795280093238,
          7.7803652390189795,
          7.741814994812012,
          7.728300007906827,
          7.714895203000023,
          7.666330420452615,
          7.6213333266122,
          7.564972725781527,
          7.563121712726096,
          7.513209986686706,
          7.4920477867126465,
          7.4110682010650635,
          7.361547629038493,
          7.233686903248662,
          7.156371411823091,
          7.063085737682524,
          6.98960000818426,
          6.963672767985951,
          6.8882809820629305,
          6.827021764672321,
          6.8522420933372095,
          6.8245909214019775,
          6.82212611903315,
          6.816980028152466,
          6.843021786731223,
          6.82524544542486,
          6.826044988632202,
          6.8265954797918145,
          6.821977246891368,
          6.814057145799909,
          6.82471362027255,
          6.822504396023958,
          6.822652408054897,
          6.818404522809115,
          6.816900036551735,
          6.817714282444546,
          6.819427273490212,
          6.817064929008484,
          6.819179964065552,
          6.816595658012059,
          6.816077254035256,
          6.8175190062749955,
          6.80886814811013,
          6.766609105196866,
          6.77602726762945,
          6.738086331974376,
          6.659214337666829,
          6.643354524265636,
          6.642091315725575,
          6.587019034794399,
          6.568179965019226,
          6.556552182073179,
          6.5197700500488285,
          6.492427262392911,
          6.472518162293867,
          6.427566687266032,
          6.3992695808410645,
          6.38631814176386,
          6.368823800768171,
          6.347786318172108,
          6.344322746450251,
          6.309622699564153,
          6.300404753003802,
          6.312172781337392,
          6.303019069489979,
          6.31644348476244,
          6.364047618139358,
          6.371672717007724,
          6.360578308934751,
          6.324150037765503,
          6.274878253107485,
          6.236540946093473,
          6.234776247115362,
          6.223295626432999,
          6.232625031471253,
          6.220004808335077,
          6.188986344770952,
          6.134887011154838,
          6.1324989080429075,
          6.124547833981722,
          6.112081831151789,
          6.110242820921398,
          6.0943545211445205,
          6.083299977438791,
          6.066063642501831,
          6.041313026262366,
          6.067030072212219,
          6.16081900823684,
          6.212518150156194,
          6.229154543443159,
          6.223399957021077,
          6.190391291742739,
          6.145695209503174,
          6.129168141971935,
          6.116608723350193,
          6.11447503566742,
          6.178778275199559,
          6.205977266485041,
          6.241064953804016,
          6.232450008392334,
          6.191895398226651,
          6.193728583199637,
          6.195704546841708,
          6.198269595270571,
          6.321180933997745,
          6.359518181193959,
          6.341613639484752,
          6.357476234436035,
          6.440265261608621,
          6.55637146177746,
          6.540314242953346,
          6.500495661859927,
          6.466157141185942,
          6.516249960119074,
          6.578818212855946,
          6.67363334837414,
          6.646199952001157,
          6.671045455065641,
          6.7252333504813055,
          6.83400448885831,
          6.915836399251765,
          6.894768108021129,
          6.874494957923889,
          6.890969545944877,
          6.883634996414185,
          6.88717390143353,
          6.808781797235662,
          6.768529987335205,
          6.672647849373195,
          6.568804786318824,
          6.6282454837452285,
          6.623128573099772,
          6.597328549339657,
          6.438082591347072,
          6.319825005531311,
          6.322504542090676,
          6.295628547668457,
          6.368060920549476,
          6.456771419161842,
          6.706213625994596,
          6.845891309821087,
          6.853105044364929,
          6.914656473242718,
          6.938090931285512,
          6.889190492175874,
          6.798756516498068,
          6.738525032997131,
          6.711490517570859,
          6.714427254416726,
          6.8445681875402276,
          6.899684977531433,
          6.876665239748747,
          7.050036343661222,
          7.117304756527855,
          7.099378233370573,
          7.0227350234985355,
          7.015359076586637,
          6.925543453382409,
          6.995414972305298,
          7.021045446395874,
          7.071004520763051,
          7.09999045871553,
          7.085359031503851,
          7.0097391294396445,
          6.932857195536296,
          6.81435454975475,
          6.730809103358876,
          6.60752855028425,
          6.541334794915241,
          6.476371469951811,
          6.459029960632324,
          6.506078263987666,
          6.521759098226374,
          6.433538073585147,
          6.4205545295368545,
          6.4750272360715,
          6.475913611325351,
          6.456763657656583,
          6.420942851475307,
          6.3905909711664375,
          6.368195678876794
         ]
        },
        {
         "name": "Trade Balance",
         "type": "scatter",
         "x": [
          "2003-12",
          "2004-01",
          "2004-02",
          "2004-03",
          "2004-04",
          "2004-05",
          "2004-06",
          "2004-07",
          "2004-08",
          "2004-09",
          "2004-10",
          "2004-11",
          "2004-12",
          "2005-01",
          "2005-02",
          "2005-03",
          "2005-04",
          "2005-05",
          "2005-06",
          "2005-07",
          "2005-08",
          "2005-09",
          "2005-10",
          "2005-11",
          "2005-12",
          "2006-01",
          "2006-02",
          "2006-03",
          "2006-04",
          "2006-05",
          "2006-06",
          "2006-07",
          "2006-08",
          "2006-09",
          "2006-10",
          "2006-11",
          "2006-12",
          "2007-01",
          "2007-02",
          "2007-03",
          "2007-04",
          "2007-05",
          "2007-06",
          "2007-07",
          "2007-08",
          "2007-09",
          "2007-10",
          "2007-11",
          "2007-12",
          "2008-01",
          "2008-02",
          "2008-03",
          "2008-04",
          "2008-05",
          "2008-06",
          "2008-07",
          "2008-08",
          "2008-09",
          "2008-10",
          "2008-11",
          "2008-12",
          "2009-01",
          "2009-02",
          "2009-03",
          "2009-04",
          "2009-05",
          "2009-06",
          "2009-07",
          "2009-08",
          "2009-09",
          "2009-10",
          "2009-11",
          "2009-12",
          "2010-01",
          "2010-02",
          "2010-03",
          "2010-04",
          "2010-05",
          "2010-06",
          "2010-07",
          "2010-08",
          "2010-09",
          "2010-10",
          "2010-11",
          "2010-12",
          "2011-01",
          "2011-02",
          "2011-03",
          "2011-04",
          "2011-05",
          "2011-06",
          "2011-07",
          "2011-08",
          "2011-09",
          "2011-10",
          "2011-11",
          "2011-12",
          "2012-01",
          "2012-02",
          "2012-03",
          "2012-04",
          "2012-05",
          "2012-06",
          "2012-07",
          "2012-08",
          "2012-09",
          "2012-10",
          "2012-11",
          "2012-12",
          "2013-01",
          "2013-02",
          "2013-03",
          "2013-04",
          "2013-05",
          "2013-06",
          "2013-07",
          "2013-08",
          "2013-09",
          "2013-10",
          "2013-11",
          "2013-12",
          "2014-01",
          "2014-02",
          "2014-03",
          "2014-04",
          "2014-05",
          "2014-06",
          "2014-07",
          "2014-08",
          "2014-09",
          "2014-10",
          "2014-11",
          "2014-12",
          "2015-01",
          "2015-02",
          "2015-03",
          "2015-04",
          "2015-05",
          "2015-06",
          "2015-07",
          "2015-08",
          "2015-09",
          "2015-10",
          "2015-11",
          "2015-12",
          "2016-01",
          "2016-02",
          "2016-03",
          "2016-04",
          "2016-05",
          "2016-06",
          "2016-07",
          "2016-08",
          "2016-09",
          "2016-10",
          "2016-11",
          "2016-12",
          "2017-01",
          "2017-02",
          "2017-03",
          "2017-04",
          "2017-05",
          "2017-06",
          "2017-07",
          "2017-08",
          "2017-09",
          "2017-10",
          "2017-11",
          "2017-12",
          "2018-01",
          "2018-02",
          "2018-03",
          "2018-04",
          "2018-05",
          "2018-06",
          "2018-07",
          "2018-08",
          "2018-09",
          "2018-10",
          "2018-11",
          "2018-12",
          "2019-01",
          "2019-02",
          "2019-03",
          "2019-04",
          "2019-05",
          "2019-06",
          "2019-07",
          "2019-08",
          "2019-09",
          "2019-10",
          "2019-11",
          "2019-12",
          "2020-01",
          "2020-02",
          "2020-03",
          "2020-04",
          "2020-05",
          "2020-06",
          "2020-07",
          "2020-08",
          "2020-09",
          "2020-10",
          "2020-11",
          "2020-12",
          "2021-01",
          "2021-02",
          "2021-03",
          "2021-04",
          "2021-05",
          "2021-06",
          "2021-07",
          "2021-08",
          "2021-09",
          "2021-10",
          "2021-11",
          "2021-12"
         ],
         "y": [
          -4.408,
          -4.4645,
          -4.4552,
          -4.6754,
          -4.7283,
          -4.7553,
          -5.4169,
          -5.1606,
          -5.3647,
          -5.1686,
          -5.5058,
          -5.8967,
          -5.4918,
          -5.6189,
          -5.8094,
          -5.3134,
          -5.7312,
          -5.604,
          -5.8152,
          -5.8301,
          -5.8745,
          -6.4882,
          -6.7265,
          -6.3859,
          -6.4568,
          -6.6967,
          -6.2308,
          -6.2397,
          -6.2603,
          -6.4818,
          -6.38,
          -6.6909,
          -6.8277,
          -6.5095,
          -5.9538,
          -5.8939,
          -6.1882,
          -5.8014,
          -5.8479,
          -6.2183,
          -6.0494,
          -5.9572,
          -5.9997,
          -6.0246,
          -5.7214,
          -5.8158,
          -5.7666,
          -6.0682,
          -5.829,
          -6.1339,
          -6.4225,
          -6.02,
          -6.3733,
          -6.231,
          -6.0889,
          -6.6989,
          -6.2394,
          -6.0292,
          -6.0879,
          -4.5132,
          -4.3967,
          -3.9343,
          -2.8778,
          -3.0193,
          -3.0473,
          -2.5839,
          -2.7152,
          -3.3307,
          -3.1674,
          -3.5247,
          -3.4959,
          -3.8381,
          -3.9426,
          -3.7744,
          -4.1504,
          -4.0271,
          -4.1496,
          -4.2088,
          -4.7316,
          -4.1609,
          -4.5619,
          -4.4333,
          -4.0646,
          -3.8739,
          -4.1721,
          -4.8123,
          -4.4753,
          -4.4312,
          -4.2685,
          -4.7725,
          -4.9882,
          -4.607,
          -4.5052,
          -4.3477,
          -4.5509,
          -4.746,
          -4.9473,
          -5.0126,
          -4.278,
          -4.9749,
          -4.6842,
          -4.5106,
          -4.2941,
          -4.2406,
          -4.403,
          -3.8794,
          -4.1467,
          -4.5332,
          -3.6334,
          -4.0135,
          -4.1004,
          -3.4314,
          -3.8487,
          -4.1701,
          -3.4426,
          -3.6356,
          -3.6617,
          -3.9917,
          -3.6285,
          -3.3983,
          -3.3636,
          -3.7433,
          -4.0119,
          -4.294,
          -4.3735,
          -3.9575,
          -3.8895,
          -3.8935,
          -3.6935,
          -4.1672,
          -4.1067,
          -3.9808,
          -4.2838,
          -3.8865,
          -3.3903,
          -4.8732,
          -3.9836,
          -3.8502,
          -4.2425,
          -4.034,
          -4.4205,
          -4.1641,
          -4.0873,
          -4.0451,
          -4.1003,
          -4.0044,
          -4.3306,
          -3.6801,
          -3.8048,
          -3.9032,
          -4.1719,
          -3.9931,
          -4.0146,
          -3.7004,
          -3.8555,
          -4.3896,
          -4.0976,
          -4.3616,
          -3.9678,
          -4.1055,
          -4.4258,
          -4.3972,
          -4.2631,
          -4.2274,
          -4.0648,
          -4.0648,
          -4.165,
          -4.4045,
          -4.5868,
          -4.6809,
          -4.8929,
          -4.3735,
          -4.5435,
          -4.1672,
          -4.5138,
          -4.9658,
          -4.9233,
          -5.0891,
          -5.2475,
          -4.955,
          -5.507,
          -4.8874,
          -4.7196,
          -4.9138,
          -4.8979,
          -5.0544,
          -4.8902,
          -4.8351,
          -4.8233,
          -4.4958,
          -4.1926,
          -3.8684,
          -4.3891,
          -4.4357,
          -4.0501,
          -4.4847,
          -5.2246,
          -5.4367,
          -4.8972,
          -5.8818,
          -6.1115,
          -5.9105,
          -6.2107,
          -6.4985,
          -6.257,
          -6.3828,
          -6.5294,
          -6.8069,
          -6.5724,
          -6.6633,
          -7.1357,
          -6.9382,
          -7.1426,
          -7.8334,
          -6.8156,
          -7.7977,
          -7.8867
         ]
        }
       ],
       "layout": {
        "template": {
         "data": {
          "bar": [
           {
            "error_x": {
             "color": "#2a3f5f"
            },
            "error_y": {
             "color": "#2a3f5f"
            },
            "marker": {
             "line": {
              "color": "#E5ECF6",
              "width": 0.5
             },
             "pattern": {
              "fillmode": "overlay",
              "size": 10,
              "solidity": 0.2
             }
            },
            "type": "bar"
           }
          ],
          "barpolar": [
           {
            "marker": {
             "line": {
              "color": "#E5ECF6",
              "width": 0.5
             },
             "pattern": {
              "fillmode": "overlay",
              "size": 10,
              "solidity": 0.2
             }
            },
            "type": "barpolar"
           }
          ],
          "carpet": [
           {
            "aaxis": {
             "endlinecolor": "#2a3f5f",
             "gridcolor": "white",
             "linecolor": "white",
             "minorgridcolor": "white",
             "startlinecolor": "#2a3f5f"
            },
            "baxis": {
             "endlinecolor": "#2a3f5f",
             "gridcolor": "white",
             "linecolor": "white",
             "minorgridcolor": "white",
             "startlinecolor": "#2a3f5f"
            },
            "type": "carpet"
           }
          ],
          "choropleth": [
           {
            "colorbar": {
             "outlinewidth": 0,
             "ticks": ""
            },
            "type": "choropleth"
           }
          ],
          "contour": [
           {
            "colorbar": {
             "outlinewidth": 0,
             "ticks": ""
            },
            "colorscale": [
             [
              0,
              "#0d0887"
             ],
             [
              0.1111111111111111,
              "#46039f"
             ],
             [
              0.2222222222222222,
              "#7201a8"
             ],
             [
              0.3333333333333333,
              "#9c179e"
             ],
             [
              0.4444444444444444,
              "#bd3786"
             ],
             [
              0.5555555555555556,
              "#d8576b"
             ],
             [
              0.6666666666666666,
              "#ed7953"
             ],
             [
              0.7777777777777778,
              "#fb9f3a"
             ],
             [
              0.8888888888888888,
              "#fdca26"
             ],
             [
              1,
              "#f0f921"
             ]
            ],
            "type": "contour"
           }
          ],
          "contourcarpet": [
           {
            "colorbar": {
             "outlinewidth": 0,
             "ticks": ""
            },
            "type": "contourcarpet"
           }
          ],
          "heatmap": [
           {
            "colorbar": {
             "outlinewidth": 0,
             "ticks": ""
            },
            "colorscale": [
             [
              0,
              "#0d0887"
             ],
             [
              0.1111111111111111,
              "#46039f"
             ],
             [
              0.2222222222222222,
              "#7201a8"
             ],
             [
              0.3333333333333333,
              "#9c179e"
             ],
             [
              0.4444444444444444,
              "#bd3786"
             ],
             [
              0.5555555555555556,
              "#d8576b"
             ],
             [
              0.6666666666666666,
              "#ed7953"
             ],
             [
              0.7777777777777778,
              "#fb9f3a"
             ],
             [
              0.8888888888888888,
              "#fdca26"
             ],
             [
              1,
              "#f0f921"
             ]
            ],
            "type": "heatmap"
           }
          ],
          "heatmapgl": [
           {
            "colorbar": {
             "outlinewidth": 0,
             "ticks": ""
            },
            "colorscale": [
             [
              0,
              "#0d0887"
             ],
             [
              0.1111111111111111,
              "#46039f"
             ],
             [
              0.2222222222222222,
              "#7201a8"
             ],
             [
              0.3333333333333333,
              "#9c179e"
             ],
             [
              0.4444444444444444,
              "#bd3786"
             ],
             [
              0.5555555555555556,
              "#d8576b"
             ],
             [
              0.6666666666666666,
              "#ed7953"
             ],
             [
              0.7777777777777778,
              "#fb9f3a"
             ],
             [
              0.8888888888888888,
              "#fdca26"
             ],
             [
              1,
              "#f0f921"
             ]
            ],
            "type": "heatmapgl"
           }
          ],
          "histogram": [
           {
            "marker": {
             "pattern": {
              "fillmode": "overlay",
              "size": 10,
              "solidity": 0.2
             }
            },
            "type": "histogram"
           }
          ],
          "histogram2d": [
           {
            "colorbar": {
             "outlinewidth": 0,
             "ticks": ""
            },
            "colorscale": [
             [
              0,
              "#0d0887"
             ],
             [
              0.1111111111111111,
              "#46039f"
             ],
             [
              0.2222222222222222,
              "#7201a8"
             ],
             [
              0.3333333333333333,
              "#9c179e"
             ],
             [
              0.4444444444444444,
              "#bd3786"
             ],
             [
              0.5555555555555556,
              "#d8576b"
             ],
             [
              0.6666666666666666,
              "#ed7953"
             ],
             [
              0.7777777777777778,
              "#fb9f3a"
             ],
             [
              0.8888888888888888,
              "#fdca26"
             ],
             [
              1,
              "#f0f921"
             ]
            ],
            "type": "histogram2d"
           }
          ],
          "histogram2dcontour": [
           {
            "colorbar": {
             "outlinewidth": 0,
             "ticks": ""
            },
            "colorscale": [
             [
              0,
              "#0d0887"
             ],
             [
              0.1111111111111111,
              "#46039f"
             ],
             [
              0.2222222222222222,
              "#7201a8"
             ],
             [
              0.3333333333333333,
              "#9c179e"
             ],
             [
              0.4444444444444444,
              "#bd3786"
             ],
             [
              0.5555555555555556,
              "#d8576b"
             ],
             [
              0.6666666666666666,
              "#ed7953"
             ],
             [
              0.7777777777777778,
              "#fb9f3a"
             ],
             [
              0.8888888888888888,
              "#fdca26"
             ],
             [
              1,
              "#f0f921"
             ]
            ],
            "type": "histogram2dcontour"
           }
          ],
          "mesh3d": [
           {
            "colorbar": {
             "outlinewidth": 0,
             "ticks": ""
            },
            "type": "mesh3d"
           }
          ],
          "parcoords": [
           {
            "line": {
             "colorbar": {
              "outlinewidth": 0,
              "ticks": ""
             }
            },
            "type": "parcoords"
           }
          ],
          "pie": [
           {
            "automargin": true,
            "type": "pie"
           }
          ],
          "scatter": [
           {
            "fillpattern": {
             "fillmode": "overlay",
             "size": 10,
             "solidity": 0.2
            },
            "type": "scatter"
           }
          ],
          "scatter3d": [
           {
            "line": {
             "colorbar": {
              "outlinewidth": 0,
              "ticks": ""
             }
            },
            "marker": {
             "colorbar": {
              "outlinewidth": 0,
              "ticks": ""
             }
            },
            "type": "scatter3d"
           }
          ],
          "scattercarpet": [
           {
            "marker": {
             "colorbar": {
              "outlinewidth": 0,
              "ticks": ""
             }
            },
            "type": "scattercarpet"
           }
          ],
          "scattergeo": [
           {
            "marker": {
             "colorbar": {
              "outlinewidth": 0,
              "ticks": ""
             }
            },
            "type": "scattergeo"
           }
          ],
          "scattergl": [
           {
            "marker": {
             "colorbar": {
              "outlinewidth": 0,
              "ticks": ""
             }
            },
            "type": "scattergl"
           }
          ],
          "scattermapbox": [
           {
            "marker": {
             "colorbar": {
              "outlinewidth": 0,
              "ticks": ""
             }
            },
            "type": "scattermapbox"
           }
          ],
          "scatterpolar": [
           {
            "marker": {
             "colorbar": {
              "outlinewidth": 0,
              "ticks": ""
             }
            },
            "type": "scatterpolar"
           }
          ],
          "scatterpolargl": [
           {
            "marker": {
             "colorbar": {
              "outlinewidth": 0,
              "ticks": ""
             }
            },
            "type": "scatterpolargl"
           }
          ],
          "scatterternary": [
           {
            "marker": {
             "colorbar": {
              "outlinewidth": 0,
              "ticks": ""
             }
            },
            "type": "scatterternary"
           }
          ],
          "surface": [
           {
            "colorbar": {
             "outlinewidth": 0,
             "ticks": ""
            },
            "colorscale": [
             [
              0,
              "#0d0887"
             ],
             [
              0.1111111111111111,
              "#46039f"
             ],
             [
              0.2222222222222222,
              "#7201a8"
             ],
             [
              0.3333333333333333,
              "#9c179e"
             ],
             [
              0.4444444444444444,
              "#bd3786"
             ],
             [
              0.5555555555555556,
              "#d8576b"
             ],
             [
              0.6666666666666666,
              "#ed7953"
             ],
             [
              0.7777777777777778,
              "#fb9f3a"
             ],
             [
              0.8888888888888888,
              "#fdca26"
             ],
             [
              1,
              "#f0f921"
             ]
            ],
            "type": "surface"
           }
          ],
          "table": [
           {
            "cells": {
             "fill": {
              "color": "#EBF0F8"
             },
             "line": {
              "color": "white"
             }
            },
            "header": {
             "fill": {
              "color": "#C8D4E3"
             },
             "line": {
              "color": "white"
             }
            },
            "type": "table"
           }
          ]
         },
         "layout": {
          "annotationdefaults": {
           "arrowcolor": "#2a3f5f",
           "arrowhead": 0,
           "arrowwidth": 1
          },
          "autotypenumbers": "strict",
          "coloraxis": {
           "colorbar": {
            "outlinewidth": 0,
            "ticks": ""
           }
          },
          "colorscale": {
           "diverging": [
            [
             0,
             "#8e0152"
            ],
            [
             0.1,
             "#c51b7d"
            ],
            [
             0.2,
             "#de77ae"
            ],
            [
             0.3,
             "#f1b6da"
            ],
            [
             0.4,
             "#fde0ef"
            ],
            [
             0.5,
             "#f7f7f7"
            ],
            [
             0.6,
             "#e6f5d0"
            ],
            [
             0.7,
             "#b8e186"
            ],
            [
             0.8,
             "#7fbc41"
            ],
            [
             0.9,
             "#4d9221"
            ],
            [
             1,
             "#276419"
            ]
           ],
           "sequential": [
            [
             0,
             "#0d0887"
            ],
            [
             0.1111111111111111,
             "#46039f"
            ],
            [
             0.2222222222222222,
             "#7201a8"
            ],
            [
             0.3333333333333333,
             "#9c179e"
            ],
            [
             0.4444444444444444,
             "#bd3786"
            ],
            [
             0.5555555555555556,
             "#d8576b"
            ],
            [
             0.6666666666666666,
             "#ed7953"
            ],
            [
             0.7777777777777778,
             "#fb9f3a"
            ],
            [
             0.8888888888888888,
             "#fdca26"
            ],
            [
             1,
             "#f0f921"
            ]
           ],
           "sequentialminus": [
            [
             0,
             "#0d0887"
            ],
            [
             0.1111111111111111,
             "#46039f"
            ],
            [
             0.2222222222222222,
             "#7201a8"
            ],
            [
             0.3333333333333333,
             "#9c179e"
            ],
            [
             0.4444444444444444,
             "#bd3786"
            ],
            [
             0.5555555555555556,
             "#d8576b"
            ],
            [
             0.6666666666666666,
             "#ed7953"
            ],
            [
             0.7777777777777778,
             "#fb9f3a"
            ],
            [
             0.8888888888888888,
             "#fdca26"
            ],
            [
             1,
             "#f0f921"
            ]
           ]
          },
          "colorway": [
           "#636efa",
           "#EF553B",
           "#00cc96",
           "#ab63fa",
           "#FFA15A",
           "#19d3f3",
           "#FF6692",
           "#B6E880",
           "#FF97FF",
           "#FECB52"
          ],
          "font": {
           "color": "#2a3f5f"
          },
          "geo": {
           "bgcolor": "white",
           "lakecolor": "white",
           "landcolor": "#E5ECF6",
           "showlakes": true,
           "showland": true,
           "subunitcolor": "white"
          },
          "hoverlabel": {
           "align": "left"
          },
          "hovermode": "closest",
          "mapbox": {
           "style": "light"
          },
          "paper_bgcolor": "white",
          "plot_bgcolor": "#E5ECF6",
          "polar": {
           "angularaxis": {
            "gridcolor": "white",
            "linecolor": "white",
            "ticks": ""
           },
           "bgcolor": "#E5ECF6",
           "radialaxis": {
            "gridcolor": "white",
            "linecolor": "white",
            "ticks": ""
           }
          },
          "scene": {
           "xaxis": {
            "backgroundcolor": "#E5ECF6",
            "gridcolor": "white",
            "gridwidth": 2,
            "linecolor": "white",
            "showbackground": true,
            "ticks": "",
            "zerolinecolor": "white"
           },
           "yaxis": {
            "backgroundcolor": "#E5ECF6",
            "gridcolor": "white",
            "gridwidth": 2,
            "linecolor": "white",
            "showbackground": true,
            "ticks": "",
            "zerolinecolor": "white"
           },
           "zaxis": {
            "backgroundcolor": "#E5ECF6",
            "gridcolor": "white",
            "gridwidth": 2,
            "linecolor": "white",
            "showbackground": true,
            "ticks": "",
            "zerolinecolor": "white"
           }
          },
          "shapedefaults": {
           "line": {
            "color": "#2a3f5f"
           }
          },
          "ternary": {
           "aaxis": {
            "gridcolor": "white",
            "linecolor": "white",
            "ticks": ""
           },
           "baxis": {
            "gridcolor": "white",
            "linecolor": "white",
            "ticks": ""
           },
           "bgcolor": "#E5ECF6",
           "caxis": {
            "gridcolor": "white",
            "linecolor": "white",
            "ticks": ""
           }
          },
          "title": {
           "x": 0.05
          },
          "xaxis": {
           "automargin": true,
           "gridcolor": "white",
           "linecolor": "white",
           "ticks": "",
           "title": {
            "standoff": 15
           },
           "zerolinecolor": "white",
           "zerolinewidth": 2
          },
          "yaxis": {
           "automargin": true,
           "gridcolor": "white",
           "linecolor": "white",
           "ticks": "",
           "title": {
            "standoff": 15
           },
           "zerolinecolor": "white",
           "zerolinewidth": 2
          }
         }
        },
        "title": {
         "text": "CNYUSD Exchange Rate and Trade Balance (in ten billions) Over Time"
        },
        "xaxis": {
         "title": {
          "text": "Date"
         }
        },
        "yaxis": {
         "title": {
          "text": "CNYUSD"
         }
        }
       }
      }
     },
     "metadata": {},
     "output_type": "display_data"
    }
   ],
   "source": [
    "# plot CNYUSD exchange rate and trade balance over time\n",
    "fig = go.Figure()\n",
    "fig.add_trace(go.Scatter(x=df_final['date'], y=df_final['CNYUSD'], name='CNYUSD'))\n",
    "fig.add_trace(go.Scatter(x=df_final['date'], y=df_final['BOPGSTB']/10000, name='Trade Balance'))\n",
    "fig.update_layout(title='CNYUSD Exchange Rate and Trade Balance (in ten billions) Over Time',\n",
    "                     xaxis_title='Date',\n",
    "                        yaxis_title='CNYUSD')\n",
    "fig.show()\n"
   ]
  }
 ],
 "metadata": {
  "kernelspec": {
   "display_name": "base",
   "language": "python",
   "name": "python3"
  },
  "language_info": {
   "codemirror_mode": {
    "name": "ipython",
    "version": 3
   },
   "file_extension": ".py",
   "mimetype": "text/x-python",
   "name": "python",
   "nbconvert_exporter": "python",
   "pygments_lexer": "ipython3",
   "version": "3.9.7"
  },
  "orig_nbformat": 4,
  "vscode": {
   "interpreter": {
    "hash": "5fc46f4ca4c3e783c5efc93cd0a8383c2a91a68aeca57a29503310e8224dc9de"
   }
  }
 },
 "nbformat": 4,
 "nbformat_minor": 2
}
